{
  "nbformat": 4,
  "nbformat_minor": 0,
  "metadata": {
    "colab": {
      "provenance": [],
      "authorship_tag": "ABX9TyMSFvw4zQyk6HFVDocf8REB",
      "include_colab_link": true
    },
    "kernelspec": {
      "name": "python3",
      "display_name": "Python 3"
    },
    "language_info": {
      "name": "python"
    }
  },
  "cells": [
    {
      "cell_type": "markdown",
      "metadata": {
        "id": "view-in-github",
        "colab_type": "text"
      },
      "source": [
        "<a href=\"https://colab.research.google.com/github/SuryakalaR/interactive-game/blob/main/Sentiment_project.ipynb\" target=\"_parent\"><img src=\"https://colab.research.google.com/assets/colab-badge.svg\" alt=\"Open In Colab\"/></a>"
      ]
    },
    {
      "cell_type": "code",
      "execution_count": 1,
      "metadata": {
        "colab": {
          "base_uri": "https://localhost:8080/"
        },
        "id": "ScJKK-48snKq",
        "outputId": "1d6d305a-62c0-4e12-ee94-5f829a7c62ea"
      },
      "outputs": [
        {
          "output_type": "stream",
          "name": "stdout",
          "text": [
            "Collecting feedparser\n",
            "  Downloading feedparser-6.0.11-py3-none-any.whl.metadata (2.4 kB)\n",
            "Requirement already satisfied: pandas in /usr/local/lib/python3.12/dist-packages (2.2.2)\n",
            "Requirement already satisfied: scikit-learn in /usr/local/lib/python3.12/dist-packages (1.6.1)\n",
            "Requirement already satisfied: textblob in /usr/local/lib/python3.12/dist-packages (0.19.0)\n",
            "Collecting sgmllib3k (from feedparser)\n",
            "  Downloading sgmllib3k-1.0.0.tar.gz (5.8 kB)\n",
            "  Preparing metadata (setup.py) ... \u001b[?25l\u001b[?25hdone\n",
            "Requirement already satisfied: numpy>=1.26.0 in /usr/local/lib/python3.12/dist-packages (from pandas) (2.0.2)\n",
            "Requirement already satisfied: python-dateutil>=2.8.2 in /usr/local/lib/python3.12/dist-packages (from pandas) (2.9.0.post0)\n",
            "Requirement already satisfied: pytz>=2020.1 in /usr/local/lib/python3.12/dist-packages (from pandas) (2025.2)\n",
            "Requirement already satisfied: tzdata>=2022.7 in /usr/local/lib/python3.12/dist-packages (from pandas) (2025.2)\n",
            "Requirement already satisfied: scipy>=1.6.0 in /usr/local/lib/python3.12/dist-packages (from scikit-learn) (1.16.1)\n",
            "Requirement already satisfied: joblib>=1.2.0 in /usr/local/lib/python3.12/dist-packages (from scikit-learn) (1.5.1)\n",
            "Requirement already satisfied: threadpoolctl>=3.1.0 in /usr/local/lib/python3.12/dist-packages (from scikit-learn) (3.6.0)\n",
            "Requirement already satisfied: nltk>=3.9 in /usr/local/lib/python3.12/dist-packages (from textblob) (3.9.1)\n",
            "Requirement already satisfied: click in /usr/local/lib/python3.12/dist-packages (from nltk>=3.9->textblob) (8.2.1)\n",
            "Requirement already satisfied: regex>=2021.8.3 in /usr/local/lib/python3.12/dist-packages (from nltk>=3.9->textblob) (2024.11.6)\n",
            "Requirement already satisfied: tqdm in /usr/local/lib/python3.12/dist-packages (from nltk>=3.9->textblob) (4.67.1)\n",
            "Requirement already satisfied: six>=1.5 in /usr/local/lib/python3.12/dist-packages (from python-dateutil>=2.8.2->pandas) (1.17.0)\n",
            "Downloading feedparser-6.0.11-py3-none-any.whl (81 kB)\n",
            "\u001b[2K   \u001b[90m━━━━━━━━━━━━━━━━━━━━━━━━━━━━━━━━━━━━━━━━\u001b[0m \u001b[32m81.3/81.3 kB\u001b[0m \u001b[31m617.1 kB/s\u001b[0m eta \u001b[36m0:00:00\u001b[0m\n",
            "\u001b[?25hBuilding wheels for collected packages: sgmllib3k\n",
            "  Building wheel for sgmllib3k (setup.py) ... \u001b[?25l\u001b[?25hdone\n",
            "  Created wheel for sgmllib3k: filename=sgmllib3k-1.0.0-py3-none-any.whl size=6046 sha256=9fefbac645a4c91216b9a666f43abbd36722ed375ee49711f27ff7ff3242d180\n",
            "  Stored in directory: /root/.cache/pip/wheels/03/f5/1a/23761066dac1d0e8e683e5fdb27e12de53209d05a4a37e6246\n",
            "Successfully built sgmllib3k\n",
            "Installing collected packages: sgmllib3k, feedparser\n",
            "Successfully installed feedparser-6.0.11 sgmllib3k-1.0.0\n"
          ]
        }
      ],
      "source": [
        "!pip install feedparser pandas scikit-learn textblob #used pip command to install lib"
      ]
    },
    {
      "cell_type": "code",
      "source": [
        "import feedparser #\n",
        "import pandas as pd\n",
        "import re\n",
        "from textblob import TextBlob"
      ],
      "metadata": {
        "id": "KQ1jwBu4tFTK"
      },
      "execution_count": 2,
      "outputs": []
    },
    {
      "cell_type": "code",
      "source": [
        "rss_url = \"https://news.google.com/rss/search?q=AI+sentiment+analysis\""
      ],
      "metadata": {
        "id": "-Hy5a3DatP_X"
      },
      "execution_count": 3,
      "outputs": []
    },
    {
      "cell_type": "code",
      "source": [
        "feed = feedparser.parse(rss_url)\n",
        "print(f\"Found {len(feed.entries)} entries\")"
      ],
      "metadata": {
        "colab": {
          "base_uri": "https://localhost:8080/"
        },
        "id": "iDlz_QeBtSMl",
        "outputId": "4bfc6509-3406-48ca-bd27-c89a229839bf"
      },
      "execution_count": 4,
      "outputs": [
        {
          "output_type": "stream",
          "name": "stdout",
          "text": [
            "Found 100 entries\n"
          ]
        }
      ]
    },
    {
      "cell_type": "code",
      "source": [
        "articles = []\n",
        "for entry in feed.entries:\n",
        "    articles.append({\n",
        "        \"title\": entry.title,\n",
        "        \"link\": entry.link,\n",
        "        \"published\": entry.published if 'published' in entry else None\n",
        "    })"
      ],
      "metadata": {
        "id": "Qteqmld_tY2c"
      },
      "execution_count": 5,
      "outputs": []
    },
    {
      "cell_type": "code",
      "source": [
        "df = pd.DataFrame(articles)\n",
        "print(\"Sample articles:\")\n",
        "print(df.head())"
      ],
      "metadata": {
        "colab": {
          "base_uri": "https://localhost:8080/"
        },
        "id": "ONxyaHT9teU7",
        "outputId": "77a021ae-4d39-413c-c615-d48797e6cd95"
      },
      "execution_count": 6,
      "outputs": [
        {
          "output_type": "stream",
          "name": "stdout",
          "text": [
            "Sample articles:\n",
            "                                               title  \\\n",
            "0  How sentiment analysis helps forecast Guardfor...   \n",
            "1  How sentiment analysis helps forecast ZION - J...   \n",
            "2  Sentiment analysis tools applied to RIVN - Ent...   \n",
            "3  Sentiment analysis tools applied to BTOG - Bon...   \n",
            "4  Sentiment analysis tools applied to ImmuCell C...   \n",
            "\n",
            "                                                link  \\\n",
            "0  https://news.google.com/rss/articles/CBMimgFBV...   \n",
            "1  https://news.google.com/rss/articles/CBMifkFVX...   \n",
            "2  https://news.google.com/rss/articles/CBMif0FVX...   \n",
            "3  https://news.google.com/rss/articles/CBMie0FVX...   \n",
            "4  https://news.google.com/rss/articles/CBMikAFBV...   \n",
            "\n",
            "                       published  \n",
            "0  Thu, 28 Aug 2025 06:46:17 GMT  \n",
            "1  Thu, 28 Aug 2025 10:21:17 GMT  \n",
            "2  Thu, 28 Aug 2025 09:51:07 GMT  \n",
            "3  Thu, 28 Aug 2025 09:13:08 GMT  \n",
            "4  Thu, 28 Aug 2025 06:42:19 GMT  \n"
          ]
        }
      ]
    },
    {
      "cell_type": "code",
      "source": [
        "def clean_text(text):\n",
        "    text = re.sub(r\"http\\S+|www\\S+\", \"\", text)   # remove URLs\n",
        "    text = re.sub(r\"[^a-zA-Z\\s]\", \"\", text)      # remove special chars\n",
        "    text = text.lower().strip()\n",
        "    return text\n",
        "\n",
        "df['clean_title'] = df['title'].apply(clean_text)\n",
        "print(df[['title','clean_title']].head())"
      ],
      "metadata": {
        "colab": {
          "base_uri": "https://localhost:8080/"
        },
        "id": "IBuFYvsdtkV8",
        "outputId": "2c81f8a4-7d9e-4cd1-c283-58049ef99f14"
      },
      "execution_count": 7,
      "outputs": [
        {
          "output_type": "stream",
          "name": "stdout",
          "text": [
            "                                               title  \\\n",
            "0  How sentiment analysis helps forecast Guardfor...   \n",
            "1  How sentiment analysis helps forecast ZION - J...   \n",
            "2  Sentiment analysis tools applied to RIVN - Ent...   \n",
            "3  Sentiment analysis tools applied to BTOG - Bon...   \n",
            "4  Sentiment analysis tools applied to ImmuCell C...   \n",
            "\n",
            "                                         clean_title  \n",
            "0  how sentiment analysis helps forecast guardfor...  \n",
            "1  how sentiment analysis helps forecast zion  ju...  \n",
            "2  sentiment analysis tools applied to rivn  entr...  \n",
            "3  sentiment analysis tools applied to btog  bond...  \n",
            "4  sentiment analysis tools applied to immucell c...  \n"
          ]
        }
      ]
    },
    {
      "cell_type": "code",
      "source": [
        "df['polarity'] = df['clean_title'].apply(lambda x: TextBlob(x).sentiment.polarity)\n",
        "df['sentiment'] = df['polarity'].apply(lambda x: \"positive\" if x>0 else (\"negative\" if x<0 else \"neutral\"))\n",
        "\n",
        "print(\"Articles with sentiment:\")\n",
        "print(df[['clean_title','sentiment','polarity']])\n"
      ],
      "metadata": {
        "colab": {
          "base_uri": "https://localhost:8080/"
        },
        "id": "pR_a-T79tv3c",
        "outputId": "3fad529f-e1cf-4390-93d9-ccc326313824"
      },
      "execution_count": 8,
      "outputs": [
        {
          "output_type": "stream",
          "name": "stdout",
          "text": [
            "Articles with sentiment:\n",
            "                                          clean_title sentiment  polarity\n",
            "0   how sentiment analysis helps forecast guardfor...  negative -0.071429\n",
            "1   how sentiment analysis helps forecast zion  ju...   neutral  0.000000\n",
            "2   sentiment analysis tools applied to rivn  entr...   neutral  0.000000\n",
            "3   sentiment analysis tools applied to btog  bond...   neutral  0.000000\n",
            "4   sentiment analysis tools applied to immucell c...   neutral  0.000000\n",
            "..                                                ...       ...       ...\n",
            "95  sentiment analysis tools applied to calavo gro...   neutral  0.000000\n",
            "96  how sentiment analysis helps forecast okta inc...   neutral  0.000000\n",
            "97  how sentiment analysis helps forecast knightsc...   neutral  0.000000\n",
            "98  how sentiment analysis helps forecast amaze ho...   neutral  0.000000\n",
            "99  sentiment analysis tools applied to rlyb   all...   neutral  0.000000\n",
            "\n",
            "[100 rows x 3 columns]\n"
          ]
        }
      ]
    },
    {
      "cell_type": "code",
      "source": [
        "df.to_csv(\"google_news_sentiment.csv\", index=False)\n",
        "print(\"Saved CSV: google_news_sentiment.csv\")"
      ],
      "metadata": {
        "colab": {
          "base_uri": "https://localhost:8080/"
        },
        "id": "oaLnBInKwFg7",
        "outputId": "c2637c95-f912-4ede-f8ef-955ddd574fa5"
      },
      "execution_count": 10,
      "outputs": [
        {
          "output_type": "stream",
          "name": "stdout",
          "text": [
            "Saved CSV: google_news_sentiment.csv\n"
          ]
        }
      ]
    },
    {
      "cell_type": "code",
      "source": [
        "from google.colab import files\n",
        "files.download(\"google_news_sentiment.csv\")"
      ],
      "metadata": {
        "colab": {
          "base_uri": "https://localhost:8080/",
          "height": 17
        },
        "id": "UQu4KOoB1F_B",
        "outputId": "adf0d05c-2394-4708-f1cc-f4928aa5bead"
      },
      "execution_count": 11,
      "outputs": [
        {
          "output_type": "display_data",
          "data": {
            "text/plain": [
              "<IPython.core.display.Javascript object>"
            ],
            "application/javascript": [
              "\n",
              "    async function download(id, filename, size) {\n",
              "      if (!google.colab.kernel.accessAllowed) {\n",
              "        return;\n",
              "      }\n",
              "      const div = document.createElement('div');\n",
              "      const label = document.createElement('label');\n",
              "      label.textContent = `Downloading \"${filename}\": `;\n",
              "      div.appendChild(label);\n",
              "      const progress = document.createElement('progress');\n",
              "      progress.max = size;\n",
              "      div.appendChild(progress);\n",
              "      document.body.appendChild(div);\n",
              "\n",
              "      const buffers = [];\n",
              "      let downloaded = 0;\n",
              "\n",
              "      const channel = await google.colab.kernel.comms.open(id);\n",
              "      // Send a message to notify the kernel that we're ready.\n",
              "      channel.send({})\n",
              "\n",
              "      for await (const message of channel.messages) {\n",
              "        // Send a message to notify the kernel that we're ready.\n",
              "        channel.send({})\n",
              "        if (message.buffers) {\n",
              "          for (const buffer of message.buffers) {\n",
              "            buffers.push(buffer);\n",
              "            downloaded += buffer.byteLength;\n",
              "            progress.value = downloaded;\n",
              "          }\n",
              "        }\n",
              "      }\n",
              "      const blob = new Blob(buffers, {type: 'application/binary'});\n",
              "      const a = document.createElement('a');\n",
              "      a.href = window.URL.createObjectURL(blob);\n",
              "      a.download = filename;\n",
              "      div.appendChild(a);\n",
              "      a.click();\n",
              "      div.remove();\n",
              "    }\n",
              "  "
            ]
          },
          "metadata": {}
        },
        {
          "output_type": "display_data",
          "data": {
            "text/plain": [
              "<IPython.core.display.Javascript object>"
            ],
            "application/javascript": [
              "download(\"download_eace2a67-0cc8-420a-a687-b76f016fba57\", \"google_news_sentiment.csv\", 51526)"
            ]
          },
          "metadata": {}
        }
      ]
    }
  ]
}